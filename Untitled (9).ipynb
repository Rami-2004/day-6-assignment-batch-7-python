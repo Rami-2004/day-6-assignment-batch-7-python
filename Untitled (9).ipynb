{
 "cells": [
  {
   "cell_type": "markdown",
   "metadata": {},
   "source": [
    "# Assignment 1"
   ]
  },
  {
   "cell_type": "code",
   "execution_count": 3,
   "metadata": {},
   "outputs": [
    {
     "name": "stdout",
     "output_type": "stream",
     "text": [
      "rami: 10000\n",
      "Enter 1 if you want to make a withdrawal, enter 2 if you don't2\n",
      "How much do you want to deposit3000\n",
      "Current Balance: 13000\n",
      "chinna: 5000\n",
      "Enter 1 if you want to make a withdrawal, enter 2 if you don't2\n",
      "How much do you want to deposit3000\n",
      "Current Balance: 8000\n"
     ]
    }
   ],
   "source": [
    "class Bankaccount:\n",
    "    \n",
    "    def __init__(self,ownername,money):\n",
    "        self.name=ownername\n",
    "        self.balance=money\n",
    "        \n",
    "    def deposit(self,money):\n",
    "        self.balance+=money\n",
    "        \n",
    "    def withdraw(self,money):\n",
    "        if self.balance> money:\n",
    "            self.balance-=money\n",
    "            return money\n",
    "        else:\n",
    "            return \"Insufficient funds\"\n",
    "        \n",
    "    def availablebalance(self):\n",
    "        return self.balance\n",
    "    \n",
    "b1=Bankaccount(\"rami\",10000)\n",
    "b2=Bankaccount(\"chinna\",5000)\n",
    "d1=0\n",
    "d2=0\n",
    "\n",
    "print(\"rami:\",b1.availablebalance())\n",
    "y1 = int(input(\"Enter 1 if you want to make a withdrawal, enter 2 if you don't\"))\n",
    "if y1 == 1:\n",
    "   w1= int(input(\"How much do you want to withdraw\"))\n",
    "   print(\"Withdrawal: £\",b1.withdraw(w1))\n",
    "else:\n",
    "   d1= int(input(\"How much do you want to deposit\"))   \n",
    "   b1.deposit(d1)   \n",
    "   print(\"Current Balance:\",b1.availablebalance())                                        \n",
    "\n",
    "print(\"chinna:\",b2.availablebalance())\n",
    "y1 = int(input(\"Enter 1 if you want to make a withdrawal, enter 2 if you don't\"))\n",
    "if y1 == 1:\n",
    "   w2= int(input(\"How much do you want to withdraw\"))\n",
    "   print(b2.withdraw(w2))\n",
    "else:\n",
    "   d2= int(input(\"How much do you want to deposit\"))\n",
    "   b2.deposit(d2)\n",
    "\n",
    "print(\"Current Balance:\",b2.availablebalance())\n",
    "            "
   ]
  },
  {
   "cell_type": "markdown",
   "metadata": {},
   "source": [
    "# Assignment 2"
   ]
  },
  {
   "cell_type": "code",
   "execution_count": 37,
   "metadata": {},
   "outputs": [],
   "source": [
    "import math"
   ]
  },
  {
   "cell_type": "code",
   "execution_count": 38,
   "metadata": {},
   "outputs": [
    {
     "name": "stdout",
     "output_type": "stream",
     "text": [
      "Volume Of Cone :  141.3716694115407\n",
      "Surface Area Of Cone :  216.7698930976957\n"
     ]
    }
   ],
   "source": [
    "class cone:\n",
    "    \n",
    "    def __init__(self,radius,height):\n",
    "        self.radius=radius\n",
    "        self.height=height\n",
    "\n",
    " \n",
    "    def volume(r, h): \n",
    "        return (1 / 3) * pi * r * r * h \n",
    "\n",
    "\n",
    "    def surfacearea(r, s): \n",
    "        return pi * r * s + pi * r * r \n",
    "\n",
    " \n",
    "radius = float(3) \n",
    "height = float(15) \n",
    "slant_height = float(20) \n",
    "pi=math.pi\n",
    "print( \"Volume Of Cone : \", volume(radius, height) ) \n",
    "print( \"Surface Area Of Cone : \", surfacearea(radius, slant_height) )"
   ]
  },
  {
   "cell_type": "code",
   "execution_count": null,
   "metadata": {},
   "outputs": [],
   "source": []
  }
 ],
 "metadata": {
  "kernelspec": {
   "display_name": "Python 3",
   "language": "python",
   "name": "python3"
  },
  "language_info": {
   "codemirror_mode": {
    "name": "ipython",
    "version": 3
   },
   "file_extension": ".py",
   "mimetype": "text/x-python",
   "name": "python",
   "nbconvert_exporter": "python",
   "pygments_lexer": "ipython3",
   "version": "3.7.6"
  }
 },
 "nbformat": 4,
 "nbformat_minor": 4
}
